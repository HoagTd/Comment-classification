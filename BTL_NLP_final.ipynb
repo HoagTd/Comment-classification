{
  "cells": [
    {
      "cell_type": "code",
      "execution_count": null,
      "metadata": {
        "colab": {
          "base_uri": "https://localhost:8080/"
        },
        "id": "5VMU1Kvim58C",
        "outputId": "45f6c4d7-9d7a-45cd-bc96-11a797a7994c"
      },
      "outputs": [
        {
          "output_type": "stream",
          "name": "stdout",
          "text": [
            "Collecting underthesea\n",
            "  Downloading underthesea-1.3.4-py3-none-any.whl (7.6 MB)\n",
            "\u001b[K     |████████████████████████████████| 7.6 MB 5.3 MB/s \n",
            "\u001b[?25hRequirement already satisfied: joblib in /usr/local/lib/python3.7/dist-packages (from underthesea) (1.1.0)\n",
            "Collecting unidecode\n",
            "  Downloading Unidecode-1.3.4-py3-none-any.whl (235 kB)\n",
            "\u001b[K     |████████████████████████████████| 235 kB 45.0 MB/s \n",
            "\u001b[?25hCollecting underthesea-core==0.0.4_alpha.10\n",
            "  Downloading underthesea_core-0.0.4_alpha.10-cp37-cp37m-manylinux2010_x86_64.whl (581 kB)\n",
            "\u001b[K     |████████████████████████████████| 581 kB 45.6 MB/s \n",
            "\u001b[?25hRequirement already satisfied: Click>=6.0 in /usr/local/lib/python3.7/dist-packages (from underthesea) (7.1.2)\n",
            "Requirement already satisfied: requests in /usr/local/lib/python3.7/dist-packages (from underthesea) (2.23.0)\n",
            "Requirement already satisfied: tqdm in /usr/local/lib/python3.7/dist-packages (from underthesea) (4.64.0)\n",
            "Requirement already satisfied: scikit-learn in /usr/local/lib/python3.7/dist-packages (from underthesea) (1.0.2)\n",
            "Requirement already satisfied: nltk in /usr/local/lib/python3.7/dist-packages (from underthesea) (3.2.5)\n",
            "Requirement already satisfied: PyYAML in /usr/local/lib/python3.7/dist-packages (from underthesea) (3.13)\n",
            "Collecting python-crfsuite>=0.9.6\n",
            "  Downloading python_crfsuite-0.9.8-cp37-cp37m-manylinux_2_17_x86_64.manylinux2014_x86_64.whl (965 kB)\n",
            "\u001b[K     |████████████████████████████████| 965 kB 31.5 MB/s \n",
            "\u001b[?25hRequirement already satisfied: six in /usr/local/lib/python3.7/dist-packages (from nltk->underthesea) (1.15.0)\n",
            "Requirement already satisfied: urllib3!=1.25.0,!=1.25.1,<1.26,>=1.21.1 in /usr/local/lib/python3.7/dist-packages (from requests->underthesea) (1.24.3)\n",
            "Requirement already satisfied: chardet<4,>=3.0.2 in /usr/local/lib/python3.7/dist-packages (from requests->underthesea) (3.0.4)\n",
            "Requirement already satisfied: certifi>=2017.4.17 in /usr/local/lib/python3.7/dist-packages (from requests->underthesea) (2021.10.8)\n",
            "Requirement already satisfied: idna<3,>=2.5 in /usr/local/lib/python3.7/dist-packages (from requests->underthesea) (2.10)\n",
            "Requirement already satisfied: numpy>=1.14.6 in /usr/local/lib/python3.7/dist-packages (from scikit-learn->underthesea) (1.21.6)\n",
            "Requirement already satisfied: threadpoolctl>=2.0.0 in /usr/local/lib/python3.7/dist-packages (from scikit-learn->underthesea) (3.1.0)\n",
            "Requirement already satisfied: scipy>=1.1.0 in /usr/local/lib/python3.7/dist-packages (from scikit-learn->underthesea) (1.4.1)\n",
            "Installing collected packages: unidecode, underthesea-core, python-crfsuite, underthesea\n",
            "Successfully installed python-crfsuite-0.9.8 underthesea-1.3.4 underthesea-core-0.0.4a10 unidecode-1.3.4\n"
          ]
        }
      ],
      "source": [
        "!pip install underthesea"
      ]
    },
    {
      "cell_type": "code",
      "execution_count": null,
      "metadata": {
        "colab": {
          "base_uri": "https://localhost:8080/"
        },
        "id": "PVFK2GWVW2Yp",
        "outputId": "3e70b9db-b55e-47b5-920f-fb2f9e282b61"
      },
      "outputs": [
        {
          "output_type": "stream",
          "name": "stdout",
          "text": [
            "Collecting langdetect\n",
            "  Downloading langdetect-1.0.9.tar.gz (981 kB)\n",
            "\u001b[K     |████████████████████████████████| 981 kB 5.4 MB/s \n",
            "\u001b[?25hRequirement already satisfied: six in /usr/local/lib/python3.7/dist-packages (from langdetect) (1.15.0)\n",
            "Building wheels for collected packages: langdetect\n",
            "  Building wheel for langdetect (setup.py) ... \u001b[?25l\u001b[?25hdone\n",
            "  Created wheel for langdetect: filename=langdetect-1.0.9-py3-none-any.whl size=993242 sha256=ee1a9e7071efb53f1da6e5c2c1749c971f40ceccac0a3425abf08bf1f0acc1c5\n",
            "  Stored in directory: /root/.cache/pip/wheels/c5/96/8a/f90c59ed25d75e50a8c10a1b1c2d4c402e4dacfa87f3aff36a\n",
            "Successfully built langdetect\n",
            "Installing collected packages: langdetect\n",
            "Successfully installed langdetect-1.0.9\n"
          ]
        }
      ],
      "source": [
        "!pip install langdetect"
      ]
    },
    {
      "cell_type": "code",
      "execution_count": null,
      "metadata": {
        "colab": {
          "base_uri": "https://localhost:8080/"
        },
        "id": "G8mYeQTIW2br",
        "outputId": "8d3edc9a-5179-4e50-eaf9-19db335f699a"
      },
      "outputs": [
        {
          "output_type": "stream",
          "name": "stdout",
          "text": [
            "Collecting mtranslate\n",
            "  Downloading mtranslate-1.8.tar.gz (2.4 kB)\n",
            "Building wheels for collected packages: mtranslate\n",
            "  Building wheel for mtranslate (setup.py) ... \u001b[?25l\u001b[?25hdone\n",
            "  Created wheel for mtranslate: filename=mtranslate-1.8-py3-none-any.whl size=3695 sha256=0994cc6156c632d25cb5a824f93742a66a5bb1f7ff4aef6f09874e9d198e2c02\n",
            "  Stored in directory: /root/.cache/pip/wheels/a4/5d/18/6ea549ba042f5f29728049065bdc8a5cdb3c88a413bb026c9a\n",
            "Successfully built mtranslate\n",
            "Installing collected packages: mtranslate\n",
            "Successfully installed mtranslate-1.8\n"
          ]
        }
      ],
      "source": [
        "!pip install mtranslate"
      ]
    },
    {
      "cell_type": "code",
      "execution_count": null,
      "metadata": {
        "colab": {
          "base_uri": "https://localhost:8080/"
        },
        "id": "aSyyEYHuTG4d",
        "outputId": "ec84f8a1-a6f7-4a39-84a8-cf5b544e2eb6"
      },
      "outputs": [
        {
          "output_type": "stream",
          "name": "stdout",
          "text": [
            "Mounted at /content/drive\n"
          ]
        }
      ],
      "source": [
        "from google.colab import drive\n",
        "drive.mount('/content/drive')"
      ]
    },
    {
      "cell_type": "code",
      "execution_count": null,
      "metadata": {
        "id": "xz54nvv6TwRQ"
      },
      "outputs": [],
      "source": [
        "import pandas as pd\n",
        "import numpy as np\n",
        "import string\n",
        "import re\n",
        "from tqdm import tqdm\n",
        "from collections import Counter\n",
        "import matplotlib.pyplot as plt\n",
        "from underthesea import word_tokenize\n",
        "import tensorflow as tf\n",
        "from keras.preprocessing.sequence import pad_sequences\n",
        "from tensorflow.keras.utils import to_categorical\n",
        "from tensorflow.keras import Sequential\n",
        "from tensorflow.keras.layers import Embedding, Dense, Conv1D, MaxPool1D, Flatten, Dropout, LSTM, Bidirectional, BatchNormalization, GRU\n",
        "from tensorflow.keras.losses import categorical_crossentropy\n",
        "from tensorflow.keras.optimizers import Adam\n",
        "from sklearn.model_selection import train_test_split"
      ]
    },
    {
      "cell_type": "code",
      "execution_count": null,
      "metadata": {
        "id": "4rOEpkRmWYQi"
      },
      "outputs": [],
      "source": [
        "alpha = 'aAàÀảẢãÃáÁạẠăĂằẰẳẲẵẴắẮặẶâÂầẦẩẨẫẪấẤậẬbBcCdDđĐeEèÈẻẺẽẼéÉẹẸêÊềỀểỂễỄếẾệỆfFgGhHiIìÌỉỈĩĨíÍịỊjJkKlLmMnNoOòÒỏỎõÕóÓọỌôÔồỒổỔỗỖốỐộỘơƠờỜởỞỡỠớỚợỢpPqQrRsStTuUùÙủỦũŨúÚụỤưƯừỪửỬữỮứỨựỰvVwWxXyYỳỲỷỶỹỸýÝỵỴzZ0123456789 '"
      ]
    },
    {
      "cell_type": "code",
      "execution_count": null,
      "metadata": {
        "id": "F95gdgnKWaQd"
      },
      "outputs": [],
      "source": [
        "viet_tat = {'sp': 'sản phẩm', 'k': 'không', 'đc': 'được', 'wa':'quá', '1*': '1 sao', '2*': '2 sao', '3*': '3 sao', '4*': '4 sao', '5*': '5 sao', 'dc': 'được', 'ok':'được'}"
      ]
    },
    {
      "cell_type": "code",
      "execution_count": null,
      "metadata": {
        "id": "UgXOYbqHnCZh"
      },
      "outputs": [],
      "source": [
        "#Data\n",
        "dataset = pd.read_excel('/content/drive/MyDrive/NLP/comment_file_full.xlsx')\n",
        "dataset = dataset.dropna()"
      ]
    },
    {
      "cell_type": "code",
      "execution_count": null,
      "metadata": {
        "colab": {
          "base_uri": "https://localhost:8080/",
          "height": 424
        },
        "id": "ORtc6HF7eGdT",
        "outputId": "7faa138d-d2b9-4e7c-9c8e-169927bed0c2"
      },
      "outputs": [
        {
          "output_type": "execute_result",
          "data": {
            "text/plain": [
              "      Label                                            Comment\n",
              "0       0.0                                           hàng đẹp\n",
              "1       0.0                                     Máy rất đẹp\n",
              "2       0.0                                                tôt\n",
              "3       0.0                                               Good\n",
              "4       0.0                                                 Ok\n",
              "...     ...                                                ...\n",
              "6988    0.0                                       giày đẹp lắm\n",
              "6989    0.0                                  sản phẩm tạm được\n",
              "6990    0.0                      sản phẩm giống y hình rất đẹp\n",
              "6991   40.0  nhân viên giao hàng rất ok sản phẩm vừa với gi...\n",
              "6992    5.0  giày giống hình giày mền chưa mang chưa biết c...\n",
              "\n",
              "[6991 rows x 2 columns]"
            ],
            "text/html": [
              "\n",
              "  <div id=\"df-2faf65a4-6be8-488e-b04d-6b36d3846bab\">\n",
              "    <div class=\"colab-df-container\">\n",
              "      <div>\n",
              "<style scoped>\n",
              "    .dataframe tbody tr th:only-of-type {\n",
              "        vertical-align: middle;\n",
              "    }\n",
              "\n",
              "    .dataframe tbody tr th {\n",
              "        vertical-align: top;\n",
              "    }\n",
              "\n",
              "    .dataframe thead th {\n",
              "        text-align: right;\n",
              "    }\n",
              "</style>\n",
              "<table border=\"1\" class=\"dataframe\">\n",
              "  <thead>\n",
              "    <tr style=\"text-align: right;\">\n",
              "      <th></th>\n",
              "      <th>Label</th>\n",
              "      <th>Comment</th>\n",
              "    </tr>\n",
              "  </thead>\n",
              "  <tbody>\n",
              "    <tr>\n",
              "      <th>0</th>\n",
              "      <td>0.0</td>\n",
              "      <td>hàng đẹp</td>\n",
              "    </tr>\n",
              "    <tr>\n",
              "      <th>1</th>\n",
              "      <td>0.0</td>\n",
              "      <td>Máy rất đẹp</td>\n",
              "    </tr>\n",
              "    <tr>\n",
              "      <th>2</th>\n",
              "      <td>0.0</td>\n",
              "      <td>tôt</td>\n",
              "    </tr>\n",
              "    <tr>\n",
              "      <th>3</th>\n",
              "      <td>0.0</td>\n",
              "      <td>Good</td>\n",
              "    </tr>\n",
              "    <tr>\n",
              "      <th>4</th>\n",
              "      <td>0.0</td>\n",
              "      <td>Ok</td>\n",
              "    </tr>\n",
              "    <tr>\n",
              "      <th>...</th>\n",
              "      <td>...</td>\n",
              "      <td>...</td>\n",
              "    </tr>\n",
              "    <tr>\n",
              "      <th>6988</th>\n",
              "      <td>0.0</td>\n",
              "      <td>giày đẹp lắm</td>\n",
              "    </tr>\n",
              "    <tr>\n",
              "      <th>6989</th>\n",
              "      <td>0.0</td>\n",
              "      <td>sản phẩm tạm được</td>\n",
              "    </tr>\n",
              "    <tr>\n",
              "      <th>6990</th>\n",
              "      <td>0.0</td>\n",
              "      <td>sản phẩm giống y hình rất đẹp</td>\n",
              "    </tr>\n",
              "    <tr>\n",
              "      <th>6991</th>\n",
              "      <td>40.0</td>\n",
              "      <td>nhân viên giao hàng rất ok sản phẩm vừa với gi...</td>\n",
              "    </tr>\n",
              "    <tr>\n",
              "      <th>6992</th>\n",
              "      <td>5.0</td>\n",
              "      <td>giày giống hình giày mền chưa mang chưa biết c...</td>\n",
              "    </tr>\n",
              "  </tbody>\n",
              "</table>\n",
              "<p>6991 rows × 2 columns</p>\n",
              "</div>\n",
              "      <button class=\"colab-df-convert\" onclick=\"convertToInteractive('df-2faf65a4-6be8-488e-b04d-6b36d3846bab')\"\n",
              "              title=\"Convert this dataframe to an interactive table.\"\n",
              "              style=\"display:none;\">\n",
              "        \n",
              "  <svg xmlns=\"http://www.w3.org/2000/svg\" height=\"24px\"viewBox=\"0 0 24 24\"\n",
              "       width=\"24px\">\n",
              "    <path d=\"M0 0h24v24H0V0z\" fill=\"none\"/>\n",
              "    <path d=\"M18.56 5.44l.94 2.06.94-2.06 2.06-.94-2.06-.94-.94-2.06-.94 2.06-2.06.94zm-11 1L8.5 8.5l.94-2.06 2.06-.94-2.06-.94L8.5 2.5l-.94 2.06-2.06.94zm10 10l.94 2.06.94-2.06 2.06-.94-2.06-.94-.94-2.06-.94 2.06-2.06.94z\"/><path d=\"M17.41 7.96l-1.37-1.37c-.4-.4-.92-.59-1.43-.59-.52 0-1.04.2-1.43.59L10.3 9.45l-7.72 7.72c-.78.78-.78 2.05 0 2.83L4 21.41c.39.39.9.59 1.41.59.51 0 1.02-.2 1.41-.59l7.78-7.78 2.81-2.81c.8-.78.8-2.07 0-2.86zM5.41 20L4 18.59l7.72-7.72 1.47 1.35L5.41 20z\"/>\n",
              "  </svg>\n",
              "      </button>\n",
              "      \n",
              "  <style>\n",
              "    .colab-df-container {\n",
              "      display:flex;\n",
              "      flex-wrap:wrap;\n",
              "      gap: 12px;\n",
              "    }\n",
              "\n",
              "    .colab-df-convert {\n",
              "      background-color: #E8F0FE;\n",
              "      border: none;\n",
              "      border-radius: 50%;\n",
              "      cursor: pointer;\n",
              "      display: none;\n",
              "      fill: #1967D2;\n",
              "      height: 32px;\n",
              "      padding: 0 0 0 0;\n",
              "      width: 32px;\n",
              "    }\n",
              "\n",
              "    .colab-df-convert:hover {\n",
              "      background-color: #E2EBFA;\n",
              "      box-shadow: 0px 1px 2px rgba(60, 64, 67, 0.3), 0px 1px 3px 1px rgba(60, 64, 67, 0.15);\n",
              "      fill: #174EA6;\n",
              "    }\n",
              "\n",
              "    [theme=dark] .colab-df-convert {\n",
              "      background-color: #3B4455;\n",
              "      fill: #D2E3FC;\n",
              "    }\n",
              "\n",
              "    [theme=dark] .colab-df-convert:hover {\n",
              "      background-color: #434B5C;\n",
              "      box-shadow: 0px 1px 3px 1px rgba(0, 0, 0, 0.15);\n",
              "      filter: drop-shadow(0px 1px 2px rgba(0, 0, 0, 0.3));\n",
              "      fill: #FFFFFF;\n",
              "    }\n",
              "  </style>\n",
              "\n",
              "      <script>\n",
              "        const buttonEl =\n",
              "          document.querySelector('#df-2faf65a4-6be8-488e-b04d-6b36d3846bab button.colab-df-convert');\n",
              "        buttonEl.style.display =\n",
              "          google.colab.kernel.accessAllowed ? 'block' : 'none';\n",
              "\n",
              "        async function convertToInteractive(key) {\n",
              "          const element = document.querySelector('#df-2faf65a4-6be8-488e-b04d-6b36d3846bab');\n",
              "          const dataTable =\n",
              "            await google.colab.kernel.invokeFunction('convertToInteractive',\n",
              "                                                     [key], {});\n",
              "          if (!dataTable) return;\n",
              "\n",
              "          const docLinkHtml = 'Like what you see? Visit the ' +\n",
              "            '<a target=\"_blank\" href=https://colab.research.google.com/notebooks/data_table.ipynb>data table notebook</a>'\n",
              "            + ' to learn more about interactive tables.';\n",
              "          element.innerHTML = '';\n",
              "          dataTable['output_type'] = 'display_data';\n",
              "          await google.colab.output.renderOutput(dataTable, element);\n",
              "          const docLink = document.createElement('div');\n",
              "          docLink.innerHTML = docLinkHtml;\n",
              "          element.appendChild(docLink);\n",
              "        }\n",
              "      </script>\n",
              "    </div>\n",
              "  </div>\n",
              "  "
            ]
          },
          "metadata": {},
          "execution_count": 10
        }
      ],
      "source": [
        "dataset"
      ]
    },
    {
      "cell_type": "markdown",
      "metadata": {
        "id": "Xo8RPTorpenf"
      },
      "source": [
        "#Tiền xử lý dữ liệu\n"
      ]
    },
    {
      "cell_type": "code",
      "execution_count": null,
      "metadata": {
        "id": "48seLWK_U-ut"
      },
      "outputs": [],
      "source": [
        "#Thay các từ việt tắt\n",
        "def thay_viet_tat(text):\n",
        "    text = text.split()\n",
        "    result = []\n",
        "    for i in text:\n",
        "        if i in viet_tat.keys():\n",
        "            result.append(viet_tat[i])\n",
        "        else:\n",
        "            result.append(i)\n",
        "    return ' '.join(result)"
      ]
    },
    {
      "cell_type": "code",
      "execution_count": null,
      "metadata": {
        "colab": {
          "base_uri": "https://localhost:8080/"
        },
        "id": "ZWBcNL_v0D9s",
        "outputId": "5a246c26-0833-4c6a-ac28-33672ebffbb3"
      },
      "outputs": [
        {
          "output_type": "stream",
          "name": "stdout",
          "text": [
            "sản phẩm tạm được\n"
          ]
        }
      ],
      "source": [
        "text = 'sp tạm đc'\n",
        "print(thay_viet_tat(text))"
      ]
    },
    {
      "cell_type": "code",
      "execution_count": null,
      "metadata": {
        "id": "JuvEKPV1VqzL"
      },
      "outputs": [],
      "source": [
        "#Loại bỏ ký tự đặc biệt\n",
        "pun = string.punctuation\n",
        "def remove_char_spec(text):\n",
        "    return ''.join([i for i in text if i not in pun])"
      ]
    },
    {
      "cell_type": "code",
      "execution_count": null,
      "metadata": {
        "colab": {
          "base_uri": "https://localhost:8080/"
        },
        "id": "e0k3aGqd0Ov2",
        "outputId": "d5342810-21d1-412b-ee94-35925c07f31d"
      },
      "outputs": [
        {
          "output_type": "stream",
          "name": "stdout",
          "text": [
            "sp tạm đc \n"
          ]
        }
      ],
      "source": [
        "text = 'sp tạm đc @@'\n",
        "print(remove_char_spec(text))"
      ]
    },
    {
      "cell_type": "code",
      "execution_count": null,
      "metadata": {
        "id": "0GzPhpzgVt0A"
      },
      "outputs": [],
      "source": [
        "#Loại bỏ emoji\n",
        "def remove_emoji(text):\n",
        "    text = text.lower()\n",
        "    return ''.join([i for i in text if i in alpha])"
      ]
    },
    {
      "cell_type": "code",
      "execution_count": null,
      "metadata": {
        "colab": {
          "base_uri": "https://localhost:8080/"
        },
        "id": "3W2JGDdB0Ref",
        "outputId": "235f1d37-1493-44ff-d783-3c258320717e"
      },
      "outputs": [
        {
          "output_type": "stream",
          "name": "stdout",
          "text": [
            "sp tạm đc \n"
          ]
        }
      ],
      "source": [
        "text = 'sp tạm đc 🥰🥰🥰'\n",
        "print(remove_emoji(text))"
      ]
    },
    {
      "cell_type": "code",
      "execution_count": null,
      "metadata": {
        "id": "zAZXZqWxVm8v"
      },
      "outputs": [],
      "source": [
        "#Dịch câu sang tiếng việt\n",
        "from langdetect import detect\n",
        "from mtranslate import translate\n",
        "def translate_text(text):\n",
        "    if detect(text) != 'vi':\n",
        "        return translate(text, from_language=detect(text), to_language='vi')\n",
        "    return text"
      ]
    },
    {
      "cell_type": "code",
      "execution_count": null,
      "metadata": {
        "colab": {
          "base_uri": "https://localhost:8080/"
        },
        "id": "C78PkF6K0g-D",
        "outputId": "34ed28f4-ec86-454a-9f3a-eaf89d560f70"
      },
      "outputs": [
        {
          "output_type": "stream",
          "name": "stdout",
          "text": [
            "sản phẩm tốt\n"
          ]
        }
      ],
      "source": [
        "text = 'good product'\n",
        "print(translate_text(text))"
      ]
    },
    {
      "cell_type": "code",
      "execution_count": null,
      "metadata": {
        "id": "uxR0b_cnVxV1"
      },
      "outputs": [],
      "source": [
        "label = []\n",
        "old_data = []\n",
        "new_data = []"
      ]
    },
    {
      "cell_type": "code",
      "execution_count": null,
      "metadata": {
        "colab": {
          "base_uri": "https://localhost:8080/"
        },
        "id": "gU02ECizXZbe",
        "outputId": "c9a3ccf0-4c43-44af-c036-a9f1e9a8d3f3"
      },
      "outputs": [
        {
          "output_type": "stream",
          "name": "stderr",
          "text": [
            "100%|██████████| 6991/6991 [00:26<00:00, 259.05it/s]\n"
          ]
        }
      ],
      "source": [
        "for i in tqdm(dataset.values):\n",
        "    label.append(i[0])\n",
        "    old_data.append(i[1])\n",
        "    text = thay_viet_tat(i[1])\n",
        "    text = remove_char_spec(text)\n",
        "    text = remove_emoji(text)\n",
        "    text = translate_text(text)\n",
        "    new_data.append(text)"
      ]
    },
    {
      "cell_type": "code",
      "execution_count": null,
      "metadata": {
        "id": "4YelqyYeaAFK"
      },
      "outputs": [],
      "source": [
        "df = [['label', 'old data', 'new data']]\n",
        "for i, j, k in zip(label, old_data, new_data):\n",
        "    df.append([i, j, k])\n",
        "df = np.array(df)"
      ]
    },
    {
      "cell_type": "code",
      "execution_count": null,
      "metadata": {
        "id": "9CgmAi0GaCZ0"
      },
      "outputs": [],
      "source": [
        "df = pd.DataFrame(df)"
      ]
    },
    {
      "cell_type": "code",
      "execution_count": null,
      "metadata": {
        "colab": {
          "base_uri": "https://localhost:8080/",
          "height": 424
        },
        "id": "3bMQ8uxGi8EB",
        "outputId": "b9d9a17e-db52-4a2d-a944-834450eddceb"
      },
      "outputs": [
        {
          "output_type": "execute_result",
          "data": {
            "text/plain": [
              "          0                                                  1  \\\n",
              "0     label                                           old data   \n",
              "1       0.0                                           hàng đẹp   \n",
              "2       0.0                                     Máy rất đẹp   \n",
              "3       0.0                                                tôt   \n",
              "4       0.0                                               Good   \n",
              "...     ...                                                ...   \n",
              "6987    0.0                                       giày đẹp lắm   \n",
              "6988    0.0                                  sản phẩm tạm được   \n",
              "6989    0.0                      sản phẩm giống y hình rất đẹp   \n",
              "6990   40.0  nhân viên giao hàng rất ok sản phẩm vừa với gi...   \n",
              "6991    5.0  giày giống hình giày mền chưa mang chưa biết c...   \n",
              "\n",
              "                                                      2  \n",
              "0                                              new data  \n",
              "1                                              hàng đẹp  \n",
              "2                                           may rât đep  \n",
              "3                                                   tôt  \n",
              "4                                                   tốt  \n",
              "...                                                 ...  \n",
              "6987                                       giày đẹp lắm  \n",
              "6988                                  sản phẩm tạm được  \n",
              "6989                      sản phẩm giống y hình rất đẹp  \n",
              "6990  nhân viên giao hàng rất được sản phẩm vừa với ...  \n",
              "6991  giày giống hình giày mền chưa mang chưa biết c...  \n",
              "\n",
              "[6992 rows x 3 columns]"
            ],
            "text/html": [
              "\n",
              "  <div id=\"df-e3c7540e-ebd4-4b44-b453-3205c65ff1ca\">\n",
              "    <div class=\"colab-df-container\">\n",
              "      <div>\n",
              "<style scoped>\n",
              "    .dataframe tbody tr th:only-of-type {\n",
              "        vertical-align: middle;\n",
              "    }\n",
              "\n",
              "    .dataframe tbody tr th {\n",
              "        vertical-align: top;\n",
              "    }\n",
              "\n",
              "    .dataframe thead th {\n",
              "        text-align: right;\n",
              "    }\n",
              "</style>\n",
              "<table border=\"1\" class=\"dataframe\">\n",
              "  <thead>\n",
              "    <tr style=\"text-align: right;\">\n",
              "      <th></th>\n",
              "      <th>0</th>\n",
              "      <th>1</th>\n",
              "      <th>2</th>\n",
              "    </tr>\n",
              "  </thead>\n",
              "  <tbody>\n",
              "    <tr>\n",
              "      <th>0</th>\n",
              "      <td>label</td>\n",
              "      <td>old data</td>\n",
              "      <td>new data</td>\n",
              "    </tr>\n",
              "    <tr>\n",
              "      <th>1</th>\n",
              "      <td>0.0</td>\n",
              "      <td>hàng đẹp</td>\n",
              "      <td>hàng đẹp</td>\n",
              "    </tr>\n",
              "    <tr>\n",
              "      <th>2</th>\n",
              "      <td>0.0</td>\n",
              "      <td>Máy rất đẹp</td>\n",
              "      <td>may rât đep</td>\n",
              "    </tr>\n",
              "    <tr>\n",
              "      <th>3</th>\n",
              "      <td>0.0</td>\n",
              "      <td>tôt</td>\n",
              "      <td>tôt</td>\n",
              "    </tr>\n",
              "    <tr>\n",
              "      <th>4</th>\n",
              "      <td>0.0</td>\n",
              "      <td>Good</td>\n",
              "      <td>tốt</td>\n",
              "    </tr>\n",
              "    <tr>\n",
              "      <th>...</th>\n",
              "      <td>...</td>\n",
              "      <td>...</td>\n",
              "      <td>...</td>\n",
              "    </tr>\n",
              "    <tr>\n",
              "      <th>6987</th>\n",
              "      <td>0.0</td>\n",
              "      <td>giày đẹp lắm</td>\n",
              "      <td>giày đẹp lắm</td>\n",
              "    </tr>\n",
              "    <tr>\n",
              "      <th>6988</th>\n",
              "      <td>0.0</td>\n",
              "      <td>sản phẩm tạm được</td>\n",
              "      <td>sản phẩm tạm được</td>\n",
              "    </tr>\n",
              "    <tr>\n",
              "      <th>6989</th>\n",
              "      <td>0.0</td>\n",
              "      <td>sản phẩm giống y hình rất đẹp</td>\n",
              "      <td>sản phẩm giống y hình rất đẹp</td>\n",
              "    </tr>\n",
              "    <tr>\n",
              "      <th>6990</th>\n",
              "      <td>40.0</td>\n",
              "      <td>nhân viên giao hàng rất ok sản phẩm vừa với gi...</td>\n",
              "      <td>nhân viên giao hàng rất được sản phẩm vừa với ...</td>\n",
              "    </tr>\n",
              "    <tr>\n",
              "      <th>6991</th>\n",
              "      <td>5.0</td>\n",
              "      <td>giày giống hình giày mền chưa mang chưa biết c...</td>\n",
              "      <td>giày giống hình giày mền chưa mang chưa biết c...</td>\n",
              "    </tr>\n",
              "  </tbody>\n",
              "</table>\n",
              "<p>6992 rows × 3 columns</p>\n",
              "</div>\n",
              "      <button class=\"colab-df-convert\" onclick=\"convertToInteractive('df-e3c7540e-ebd4-4b44-b453-3205c65ff1ca')\"\n",
              "              title=\"Convert this dataframe to an interactive table.\"\n",
              "              style=\"display:none;\">\n",
              "        \n",
              "  <svg xmlns=\"http://www.w3.org/2000/svg\" height=\"24px\"viewBox=\"0 0 24 24\"\n",
              "       width=\"24px\">\n",
              "    <path d=\"M0 0h24v24H0V0z\" fill=\"none\"/>\n",
              "    <path d=\"M18.56 5.44l.94 2.06.94-2.06 2.06-.94-2.06-.94-.94-2.06-.94 2.06-2.06.94zm-11 1L8.5 8.5l.94-2.06 2.06-.94-2.06-.94L8.5 2.5l-.94 2.06-2.06.94zm10 10l.94 2.06.94-2.06 2.06-.94-2.06-.94-.94-2.06-.94 2.06-2.06.94z\"/><path d=\"M17.41 7.96l-1.37-1.37c-.4-.4-.92-.59-1.43-.59-.52 0-1.04.2-1.43.59L10.3 9.45l-7.72 7.72c-.78.78-.78 2.05 0 2.83L4 21.41c.39.39.9.59 1.41.59.51 0 1.02-.2 1.41-.59l7.78-7.78 2.81-2.81c.8-.78.8-2.07 0-2.86zM5.41 20L4 18.59l7.72-7.72 1.47 1.35L5.41 20z\"/>\n",
              "  </svg>\n",
              "      </button>\n",
              "      \n",
              "  <style>\n",
              "    .colab-df-container {\n",
              "      display:flex;\n",
              "      flex-wrap:wrap;\n",
              "      gap: 12px;\n",
              "    }\n",
              "\n",
              "    .colab-df-convert {\n",
              "      background-color: #E8F0FE;\n",
              "      border: none;\n",
              "      border-radius: 50%;\n",
              "      cursor: pointer;\n",
              "      display: none;\n",
              "      fill: #1967D2;\n",
              "      height: 32px;\n",
              "      padding: 0 0 0 0;\n",
              "      width: 32px;\n",
              "    }\n",
              "\n",
              "    .colab-df-convert:hover {\n",
              "      background-color: #E2EBFA;\n",
              "      box-shadow: 0px 1px 2px rgba(60, 64, 67, 0.3), 0px 1px 3px 1px rgba(60, 64, 67, 0.15);\n",
              "      fill: #174EA6;\n",
              "    }\n",
              "\n",
              "    [theme=dark] .colab-df-convert {\n",
              "      background-color: #3B4455;\n",
              "      fill: #D2E3FC;\n",
              "    }\n",
              "\n",
              "    [theme=dark] .colab-df-convert:hover {\n",
              "      background-color: #434B5C;\n",
              "      box-shadow: 0px 1px 3px 1px rgba(0, 0, 0, 0.15);\n",
              "      filter: drop-shadow(0px 1px 2px rgba(0, 0, 0, 0.3));\n",
              "      fill: #FFFFFF;\n",
              "    }\n",
              "  </style>\n",
              "\n",
              "      <script>\n",
              "        const buttonEl =\n",
              "          document.querySelector('#df-e3c7540e-ebd4-4b44-b453-3205c65ff1ca button.colab-df-convert');\n",
              "        buttonEl.style.display =\n",
              "          google.colab.kernel.accessAllowed ? 'block' : 'none';\n",
              "\n",
              "        async function convertToInteractive(key) {\n",
              "          const element = document.querySelector('#df-e3c7540e-ebd4-4b44-b453-3205c65ff1ca');\n",
              "          const dataTable =\n",
              "            await google.colab.kernel.invokeFunction('convertToInteractive',\n",
              "                                                     [key], {});\n",
              "          if (!dataTable) return;\n",
              "\n",
              "          const docLinkHtml = 'Like what you see? Visit the ' +\n",
              "            '<a target=\"_blank\" href=https://colab.research.google.com/notebooks/data_table.ipynb>data table notebook</a>'\n",
              "            + ' to learn more about interactive tables.';\n",
              "          element.innerHTML = '';\n",
              "          dataTable['output_type'] = 'display_data';\n",
              "          await google.colab.output.renderOutput(dataTable, element);\n",
              "          const docLink = document.createElement('div');\n",
              "          docLink.innerHTML = docLinkHtml;\n",
              "          element.appendChild(docLink);\n",
              "        }\n",
              "      </script>\n",
              "    </div>\n",
              "  </div>\n",
              "  "
            ]
          },
          "metadata": {},
          "execution_count": 23
        }
      ],
      "source": [
        "df"
      ]
    },
    {
      "cell_type": "code",
      "execution_count": null,
      "metadata": {
        "id": "CU_GQJvT_HxN"
      },
      "outputs": [],
      "source": [
        "df.to_excel('/content/drive/MyDrive/NLP/new_comment_file.xlsx', header=0, index = False)"
      ]
    },
    {
      "cell_type": "code",
      "execution_count": null,
      "metadata": {
        "colab": {
          "base_uri": "https://localhost:8080/"
        },
        "id": "w_5X76OFAL6g",
        "outputId": "40ef7333-a1a0-4843-d9e6-ca0a844e5aa6"
      },
      "outputs": [
        {
          "output_type": "execute_result",
          "data": {
            "text/plain": [
              "Counter({0.0: 3710,\n",
              "         1.0: 877,\n",
              "         2.0: 680,\n",
              "         3.0: 108,\n",
              "         4.0: 28,\n",
              "         5.0: 571,\n",
              "         30.0: 684,\n",
              "         31.0: 112,\n",
              "         32.0: 16,\n",
              "         40.0: 148,\n",
              "         41.0: 40,\n",
              "         42.0: 17})"
            ]
          },
          "metadata": {},
          "execution_count": 25
        }
      ],
      "source": [
        "a = Counter(label)\n",
        "a"
      ]
    },
    {
      "cell_type": "code",
      "execution_count": null,
      "metadata": {
        "colab": {
          "base_uri": "https://localhost:8080/",
          "height": 282
        },
        "id": "qYLBMmnknyRL",
        "outputId": "88224eb0-67e4-4f1b-9599-43287482ae0b"
      },
      "outputs": [
        {
          "output_type": "execute_result",
          "data": {
            "text/plain": [
              "<BarContainer object of 12 artists>"
            ]
          },
          "metadata": {},
          "execution_count": 26
        },
        {
          "output_type": "display_data",
          "data": {
            "text/plain": [
              "<Figure size 432x288 with 1 Axes>"
            ],
            "image/png": "[encoded data removed]"
          },
          "metadata": {
            "needs_background": "light"
          }
        }
      ],
      "source": [
        "label = [0, 1, 2, 3, 4, 5, 30, 31, 32, 40, 41, 42]\n",
        "value = []\n",
        "for i in label:\n",
        "  value.append(a[i])\n",
        "\n",
        "plt.bar([str(i) for i in label], value)"
      ]
    },
    {
      "cell_type": "code",
      "execution_count": null,
      "metadata": {
        "id": "qr__GKIqCzyc"
      },
      "outputs": [],
      "source": [
        "new_data = [word_tokenize(i, format = 'text') for i in new_data]"
      ]
    },
    {
      "cell_type": "code",
      "execution_count": null,
      "metadata": {
        "id": "jpSRX2VbCz2i"
      },
      "outputs": [],
      "source": [
        "#Tạo vocab\n",
        "class Vocab:\n",
        "    def __init__(self):\n",
        "        self.word2id = {}\n",
        "        self.id2word = {}\n",
        "    def fit(self, data):\n",
        "        idx = 1\n",
        "        self.maxlen = 0\n",
        "        for i in data:\n",
        "            for char in i.split():\n",
        "                if char not in self.word2id.keys():\n",
        "                    self.word2id[char] = idx\n",
        "                    self.id2word[idx] = char\n",
        "                    idx+=1\n",
        "            if len(i.split()) > self.maxlen:\n",
        "                self.maxlen = len(i.split())\n",
        "\n",
        "        self.vocab_size = len(self.word2id) +3\n",
        "\n",
        "        self.word2id['<start>'] = len(self.word2id)\n",
        "        self.id2word[len(self.word2id)] = '<start>'\n",
        "\n",
        "        self.word2id['<end>'] = len(self.word2id)+1\n",
        "        self.id2word[len(self.word2id)+1] = '<end>'\n",
        "\n",
        "        self.word2id['<pad>'] = 0\n",
        "        self.id2word[0] = '<pad>'\n",
        "\n",
        "    def encode(self, text):\n",
        "        assert len(self.word2id)>0,  \"Chưa fit data\"\n",
        "        text = text.split()\n",
        "        result = [self.word2id['<start>']]\n",
        "        for i in text:\n",
        "            result.append(self.word2id[i])\n",
        "        result.append(self.word2id['<end>'])\n",
        "        return result     "
      ]
    },
    {
      "cell_type": "code",
      "execution_count": null,
      "metadata": {
        "id": "EIiKrWvGC4jM"
      },
      "outputs": [],
      "source": [
        "vocab = Vocab()\n",
        "vocab.fit(new_data)"
      ]
    },
    {
      "cell_type": "code",
      "execution_count": null,
      "metadata": {
        "colab": {
          "base_uri": "https://localhost:8080/"
        },
        "id": "g0XIDDMQC7eS",
        "outputId": "ec58f2ba-b351-4fde-999b-6d07d9608467"
      },
      "outputs": [
        {
          "output_type": "execute_result",
          "data": {
            "text/plain": [
              "218"
            ]
          },
          "metadata": {},
          "execution_count": 30
        }
      ],
      "source": [
        "vocab.maxlen"
      ]
    },
    {
      "cell_type": "code",
      "execution_count": null,
      "metadata": {
        "colab": {
          "base_uri": "https://localhost:8080/"
        },
        "id": "IzR8mCRaC7g6",
        "outputId": "d7709c1a-7c3d-433f-f97a-ff0cd0c631da"
      },
      "outputs": [
        {
          "output_type": "execute_result",
          "data": {
            "text/plain": [
              "5446"
            ]
          },
          "metadata": {},
          "execution_count": 31
        }
      ],
      "source": [
        "vocab.vocab_size"
      ]
    },
    {
      "cell_type": "markdown",
      "metadata": {
        "id": "9rgSj8XiDj08"
      },
      "source": [
        "#Download word vector"
      ]
    },
    {
      "cell_type": "code",
      "execution_count": null,
      "metadata": {
        "colab": {
          "base_uri": "https://localhost:8080/"
        },
        "id": "zVfJ2ONjDR2Z",
        "outputId": "7c939ec1-d1f0-440a-ba84-c90a789435d0"
      },
      "outputs": [
        {
          "output_type": "stream",
          "name": "stdout",
          "text": [
            "Collecting fasttext\n",
            "  Downloading fasttext-0.9.2.tar.gz (68 kB)\n",
            "\u001b[?25l\r\u001b[K     |████▊                           | 10 kB 20.3 MB/s eta 0:00:01\r\u001b[K     |█████████▌                      | 20 kB 10.3 MB/s eta 0:00:01\r\u001b[K     |██████████████▎                 | 30 kB 8.6 MB/s eta 0:00:01\r\u001b[K     |███████████████████             | 40 kB 8.1 MB/s eta 0:00:01\r\u001b[K     |███████████████████████▉        | 51 kB 4.1 MB/s eta 0:00:01\r\u001b[K     |████████████████████████████▋   | 61 kB 4.9 MB/s eta 0:00:01\r\u001b[K     |████████████████████████████████| 68 kB 3.3 MB/s \n",
            "\u001b[?25hCollecting pybind11>=2.2\n",
            "  Using cached pybind11-2.9.2-py2.py3-none-any.whl (213 kB)\n",
            "Requirement already satisfied: setuptools>=0.7.0 in /usr/local/lib/python3.7/dist-packages (from fasttext) (57.4.0)\n",
            "Requirement already satisfied: numpy in /usr/local/lib/python3.7/dist-packages (from fasttext) (1.21.6)\n",
            "Building wheels for collected packages: fasttext\n",
            "  Building wheel for fasttext (setup.py) ... \u001b[?25l\u001b[?25hdone\n",
            "  Created wheel for fasttext: filename=fasttext-0.9.2-cp37-cp37m-linux_x86_64.whl size=3148340 sha256=a3d7d0f6f07592cc9b0aa4b383f52db49f9c319b191369eb07bc54424349165f\n",
            "  Stored in directory: /root/.cache/pip/wheels/4e/ca/bf/b020d2be95f7641801a6597a29c8f4f19e38f9c02a345bab9b\n",
            "Successfully built fasttext\n",
            "Installing collected packages: pybind11, fasttext\n",
            "Successfully installed fasttext-0.9.2 pybind11-2.9.2\n"
          ]
        }
      ],
      "source": [
        "!pip install fasttext"
      ]
    },
    {
      "cell_type": "code",
      "execution_count": null,
      "metadata": {
        "id": "b7rt5kG6Dcnx"
      },
      "outputs": [],
      "source": [
        "import fasttext.util"
      ]
    },
    {
      "cell_type": "code",
      "execution_count": null,
      "metadata": {
        "colab": {
          "base_uri": "https://localhost:8080/"
        },
        "id": "x78vfls9DR4_",
        "outputId": "39d8b405-7151-45b6-dfc9-bb892ac73e17"
      },
      "outputs": [
        {
          "output_type": "stream",
          "name": "stderr",
          "text": [
            "Warning : `load_model` does not return WordVectorModel or SupervisedModel any more, but a `FastText` object which is very similar.\n"
          ]
        }
      ],
      "source": [
        "#fasttext.util.download_model('vi', if_exists='ignore')  \n",
        "ft = fasttext.load_model('/content/drive/MyDrive/NLP/cc.vi.300.bin')"
      ]
    },
    {
      "cell_type": "code",
      "execution_count": null,
      "metadata": {
        "id": "ikHESo7RHEPt"
      },
      "outputs": [],
      "source": [
        "embedding_dim = 300\n",
        "\n",
        "embedding_matrix = np.zeros((vocab.vocab_size, embedding_dim))\n",
        "\n",
        "for word, i in vocab.word2id.items():\n",
        "    if i == 0:\n",
        "        continue\n",
        "    embedding_vector = ft.get_word_vector(word)\n",
        "    embedding_matrix[i] = embedding_vector"
      ]
    },
    {
      "cell_type": "code",
      "execution_count": null,
      "metadata": {
        "id": "7_izZTkAwv7G"
      },
      "outputs": [],
      "source": [
        "del ft"
      ]
    },
    {
      "cell_type": "code",
      "execution_count": null,
      "metadata": {
        "id": "yZZefBkrHETz"
      },
      "outputs": [],
      "source": [
        "train_x = []\n",
        "for i in new_data:\n",
        "    train_x.append(vocab.encode(i))"
      ]
    },
    {
      "cell_type": "code",
      "execution_count": null,
      "metadata": {
        "id": "ugiEiWYtHEs9"
      },
      "outputs": [],
      "source": [
        "train_x = pad_sequences(train_x, maxlen = vocab.maxlen, padding = 'post')"
      ]
    },
    {
      "cell_type": "code",
      "execution_count": null,
      "metadata": {
        "colab": {
          "base_uri": "https://localhost:8080/"
        },
        "id": "O2V_oi17ldiH",
        "outputId": "50c942a9-e506-4cb1-cc7e-9ee96dbe1cb1"
      },
      "outputs": [
        {
          "output_type": "execute_result",
          "data": {
            "text/plain": [
              "(6991, 218)"
            ]
          },
          "metadata": {},
          "execution_count": 40
        }
      ],
      "source": [
        "train_x.shape"
      ]
    },
    {
      "cell_type": "code",
      "execution_count": null,
      "metadata": {
        "colab": {
          "base_uri": "https://localhost:8080/"
        },
        "id": "YqEyCkfGzeMI",
        "outputId": "c5a8011d-758b-433e-b6ee-85903619f33a"
      },
      "outputs": [
        {
          "output_type": "execute_result",
          "data": {
            "text/plain": [
              "{0.0: 0,\n",
              " 1.0: 1,\n",
              " 2.0: 2,\n",
              " 3.0: 3,\n",
              " 4.0: 4,\n",
              " 5.0: 5,\n",
              " 30.0: 6,\n",
              " 31.0: 7,\n",
              " 32.0: 8,\n",
              " 40.0: 9,\n",
              " 41.0: 10,\n",
              " 42.0: 11}"
            ]
          },
          "metadata": {},
          "execution_count": 41
        }
      ],
      "source": [
        "y = np.unique(dataset.values[:,0])\n",
        "lookup = {}\n",
        "for i in range(0, len(y+1)):\n",
        "  lookup[(y[i])] = i\n",
        "\n",
        "lookup"
      ]
    },
    {
      "cell_type": "code",
      "execution_count": null,
      "metadata": {
        "id": "gLnbI9wl0nwm"
      },
      "outputs": [],
      "source": [
        "temp = []\n",
        "for i in dataset.values:\n",
        "  temp.append(lookup[i[0]])"
      ]
    },
    {
      "cell_type": "code",
      "execution_count": null,
      "metadata": {
        "id": "gaPLpg9AHEvY"
      },
      "outputs": [],
      "source": [
        "train_y = to_categorical(temp, num_classes=12)"
      ]
    },
    {
      "cell_type": "code",
      "execution_count": null,
      "metadata": {
        "colab": {
          "base_uri": "https://localhost:8080/"
        },
        "id": "wWs-LPVdHKtB",
        "outputId": "5210d288-22d1-4a2f-afda-15dc706e4751"
      },
      "outputs": [
        {
          "output_type": "execute_result",
          "data": {
            "text/plain": [
              "((6991, 218), (6991, 12))"
            ]
          },
          "metadata": {},
          "execution_count": 44
        }
      ],
      "source": [
        "train_x.shape, train_y.shape"
      ]
    },
    {
      "cell_type": "code",
      "execution_count": null,
      "metadata": {
        "id": "37bkE_dwHKvy"
      },
      "outputs": [],
      "source": [
        "train_x, test_x, train_y, test_y = train_test_split(train_x, train_y, test_size=0.1)\n",
        "train_x, val_x, train_y, val_y = train_test_split(train_x, train_y, test_size=0.1)"
      ]
    },
    {
      "cell_type": "markdown",
      "metadata": {
        "id": "bslK-rn87HZp"
      },
      "source": [
        "#GRU"
      ]
    },
    {
      "cell_type": "code",
      "execution_count": null,
      "metadata": {
        "id": "O8WLkuhq2_4w"
      },
      "outputs": [],
      "source": [
        "trans_label = {}\n",
        "trans_label[0] = 'Tốt'\n",
        "trans_label[1] = 'Bình thường'\n",
        "trans_label[2] = 'Tệ'\n",
        "trans_label[3] = 'Nhanh'\n",
        "trans_label[4] = 'Chậm'\n",
        "trans_label[5] = 'Khác'\n",
        "trans_label[6] = 'Tốt nhanh'\n",
        "trans_label[7] = 'Bình thường nhanh'\n",
        "trans_label[8] = 'Tệ nhanh'\n",
        "trans_label[9] = 'Tốt chậm'\n",
        "trans_label[10] = 'Bình thường chậm'\n",
        "trans_label[11] = 'Tệ chậm'"
      ]
    },
    {
      "cell_type": "code",
      "execution_count": null,
      "metadata": {
        "id": "gig8-UshHKyP"
      },
      "outputs": [],
      "source": [
        "model = Sequential()\n",
        "model.add(Embedding(vocab.vocab_size, 300, input_length=vocab.maxlen, weights=[embedding_matrix], trainable = False))\n",
        "\n",
        "model.add(Conv1D(64, 3, activation = 'relu'))\n",
        "model.add(MaxPool1D())\n",
        "model.add(BatchNormalization())\n",
        "model.add(Conv1D(128, 3, activation = 'relu'))\n",
        "model.add(MaxPool1D())\n",
        "model.add(BatchNormalization())\n",
        "\n",
        "model.add(GRU(128, return_sequences=True))\n",
        "model.add(GRU(256))\n",
        "\n",
        "model.add(Dense(256, activation='relu')) \n",
        "model.add(Dense(64, activation='relu')) \n",
        "model.add(Dense(12, activation='softmax')) "
      ]
    },
    {
      "cell_type": "code",
      "execution_count": null,
      "metadata": {
        "colab": {
          "base_uri": "https://localhost:8080/"
        },
        "id": "PcmMMirqHS6C",
        "outputId": "9ffb1540-b2f9-440b-a8af-9b6543405164"
      },
      "outputs": [
        {
          "output_type": "stream",
          "name": "stdout",
          "text": [
            "Model: \"sequential\"\n",
            "_________________________________________________________________\n",
            " Layer (type)                Output Shape              Param #   \n",
            "=================================================================\n",
            " embedding (Embedding)       (None, 218, 300)          1633800   \n",
            "                                                                 \n",
            " conv1d (Conv1D)             (None, 216, 64)           57664     \n",
            "                                                                 \n",
            " max_pooling1d (MaxPooling1D  (None, 108, 64)          0         \n",
            " )                                                               \n",
            "                                                                 \n",
            " batch_normalization (BatchN  (None, 108, 64)          256       \n",
            " ormalization)                                                   \n",
            "                                                                 \n",
            " conv1d_1 (Conv1D)           (None, 106, 128)          24704     \n",
            "                                                                 \n",
            " max_pooling1d_1 (MaxPooling  (None, 53, 128)          0         \n",
            " 1D)                                                             \n",
            "                                                                 \n",
            " batch_normalization_1 (Batc  (None, 53, 128)          512       \n",
            " hNormalization)                                                 \n",
            "                                                                 \n",
            " gru (GRU)                   (None, 53, 128)           99072     \n",
            "                                                                 \n",
            " gru_1 (GRU)                 (None, 256)               296448    \n",
            "                                                                 \n",
            " dense (Dense)               (None, 256)               65792     \n",
            "                                                                 \n",
            " dense_1 (Dense)             (None, 64)                16448     \n",
            "                                                                 \n",
            " dense_2 (Dense)             (None, 12)                780       \n",
            "                                                                 \n",
            "=================================================================\n",
            "Total params: 2,195,476\n",
            "Trainable params: 561,292\n",
            "Non-trainable params: 1,634,184\n",
            "_________________________________________________________________\n"
          ]
        }
      ],
      "source": [
        "model.summary()"
      ]
    },
    {
      "cell_type": "code",
      "execution_count": null,
      "metadata": {
        "id": "qs0FWO9SHS83"
      },
      "outputs": [],
      "source": [
        "model.compile(optimizer=Adam(), loss=categorical_crossentropy, metrics=['acc'])"
      ]
    },
    {
      "cell_type": "code",
      "execution_count": null,
      "metadata": {
        "colab": {
          "base_uri": "https://localhost:8080/"
        },
        "id": "tmXdWlb5HTEM",
        "outputId": "9c8a6dcd-d061-4674-ce4b-c876111d7714"
      },
      "outputs": [
        {
          "output_type": "stream",
          "name": "stdout",
          "text": [
            "Epoch 1/10\n",
            "177/177 [==============================] - 36s 44ms/step - loss: 1.5996 - acc: 0.5335 - val_loss: 1.5704 - val_acc: 0.5016\n",
            "Epoch 2/10\n",
            "177/177 [==============================] - 6s 32ms/step - loss: 1.5238 - acc: 0.5329 - val_loss: 1.4309 - val_acc: 0.5016\n",
            "Epoch 3/10\n",
            "177/177 [==============================] - 6s 32ms/step - loss: 1.2264 - acc: 0.5919 - val_loss: 1.3875 - val_acc: 0.5016\n",
            "Epoch 4/10\n",
            "177/177 [==============================] - 6s 33ms/step - loss: 1.0191 - acc: 0.6506 - val_loss: 1.0625 - val_acc: 0.6111\n",
            "Epoch 5/10\n",
            "177/177 [==============================] - 6s 33ms/step - loss: 0.8937 - acc: 0.6838 - val_loss: 0.9430 - val_acc: 0.6921\n",
            "Epoch 6/10\n",
            "177/177 [==============================] - 6s 32ms/step - loss: 0.8058 - acc: 0.7197 - val_loss: 0.8842 - val_acc: 0.7048\n",
            "Epoch 7/10\n",
            "177/177 [==============================] - 6s 33ms/step - loss: 0.7122 - acc: 0.7553 - val_loss: 0.9087 - val_acc: 0.7000\n",
            "Epoch 8/10\n",
            "177/177 [==============================] - 6s 32ms/step - loss: 0.6564 - acc: 0.7757 - val_loss: 1.0321 - val_acc: 0.6841\n",
            "Epoch 9/10\n",
            "177/177 [==============================] - 6s 32ms/step - loss: 0.5777 - acc: 0.8094 - val_loss: 0.8945 - val_acc: 0.7079\n",
            "Epoch 10/10\n",
            "177/177 [==============================] - 6s 33ms/step - loss: 0.5103 - acc: 0.8313 - val_loss: 0.9551 - val_acc: 0.7063\n"
          ]
        }
      ],
      "source": [
        "h = model.fit(train_x, train_y, batch_size=32, epochs=10, validation_data=(val_x, val_y))"
      ]
    },
    {
      "cell_type": "code",
      "execution_count": null,
      "metadata": {
        "colab": {
          "base_uri": "https://localhost:8080/",
          "height": 312
        },
        "id": "KXa3WqjKHVrI",
        "outputId": "adba0ef0-462b-4bc0-c93b-e685a99209e3"
      },
      "outputs": [
        {
          "output_type": "execute_result",
          "data": {
            "text/plain": [
              "<matplotlib.legend.Legend at 0x7f509053b690>"
            ]
          },
          "metadata": {},
          "execution_count": 51
        },
        {
          "output_type": "display_data",
          "data": {
            "text/plain": [
              "<Figure size 432x288 with 1 Axes>"
            ],
            "image/png": "[encoded data removed]"
          },
          "metadata": {
            "needs_background": "light"
          }
        }
      ],
      "source": [
        "plt.plot(h.history['acc'])\n",
        "plt.plot(h.history['val_acc'])\n",
        "plt.title('model accuracy')\n",
        "plt.ylabel('accuracy')\n",
        "plt.xlabel('epoch')\n",
        "plt.ylim(0.52, 0.75)\n",
        "plt.legend(['train', 'val'], loc='upper left')"
      ]
    },
    {
      "cell_type": "code",
      "execution_count": null,
      "metadata": {
        "colab": {
          "base_uri": "https://localhost:8080/",
          "height": 312
        },
        "id": "HeGYPU_HHVtw",
        "outputId": "9f6f2493-c835-45b1-9eb5-2a386870c634"
      },
      "outputs": [
        {
          "output_type": "execute_result",
          "data": {
            "text/plain": [
              "<matplotlib.legend.Legend at 0x7f502068b190>"
            ]
          },
          "metadata": {},
          "execution_count": 52
        },
        {
          "output_type": "display_data",
          "data": {
            "text/plain": [
              "<Figure size 432x288 with 1 Axes>"
            ],
            "image/png": "[encoded data removed]"
          },
          "metadata": {
            "needs_background": "light"
          }
        }
      ],
      "source": [
        "plt.plot(h.history['loss'])\n",
        "plt.plot(h.history['val_loss'])\n",
        "plt.title('model loss')\n",
        "plt.ylabel('loss')\n",
        "plt.xlabel('epoch')\n",
        "plt.legend(['train', 'val'], loc='upper left')"
      ]
    },
    {
      "cell_type": "code",
      "execution_count": null,
      "metadata": {
        "colab": {
          "base_uri": "https://localhost:8080/"
        },
        "id": "zTjaAHT_HVwS",
        "outputId": "322a2004-3a9b-41e4-b68c-7b6b9c3eb7c6"
      },
      "outputs": [
        {
          "output_type": "stream",
          "name": "stdout",
          "text": [
            "22/22 [==============================] - 1s 24ms/step - loss: 1.0840 - acc: 0.6686\n"
          ]
        },
        {
          "output_type": "execute_result",
          "data": {
            "text/plain": [
              "[1.08402419090271, 0.668571412563324]"
            ]
          },
          "metadata": {},
          "execution_count": 53
        }
      ],
      "source": [
        "model.evaluate(test_x, test_y)"
      ]
    },
    {
      "cell_type": "code",
      "execution_count": null,
      "metadata": {
        "id": "ADtSEXxuHYM4"
      },
      "outputs": [],
      "source": [
        "text = 'hàng này tốt quá đi nhưng giao hàng quá lâu'\n",
        "text = word_tokenize(text, format = 'text')\n",
        "text = vocab.encode(text)\n",
        "text  = pad_sequences([text], maxlen = vocab.maxlen, padding = 'post')"
      ]
    },
    {
      "cell_type": "code",
      "execution_count": null,
      "metadata": {
        "colab": {
          "base_uri": "https://localhost:8080/"
        },
        "id": "ONlUSRfsHYSt",
        "outputId": "3d4caf4f-2710-45c8-8cb0-b09d800475dc"
      },
      "outputs": [
        {
          "output_type": "stream",
          "name": "stdout",
          "text": [
            "Tốt chậm\n"
          ]
        }
      ],
      "source": [
        "pred = model.predict(text)\n",
        "print(trans_label[np.argmax(pred[0])])"
      ]
    },
    {
      "cell_type": "markdown",
      "metadata": {
        "id": "HSB0TAIH7Nm5"
      },
      "source": [
        "#Bidirectional"
      ]
    },
    {
      "cell_type": "code",
      "execution_count": null,
      "metadata": {
        "id": "pqNeuB296TjZ"
      },
      "outputs": [],
      "source": [
        "model_bid = Sequential()\n",
        "model_bid.add(Embedding(input_dim=vocab.vocab_size,output_dim=300,input_length=vocab.maxlen,mask_zero = True,weights = [embedding_matrix],trainable = False))\n",
        "model_bid.add(Bidirectional(LSTM(64)))\n",
        "model_bid.add(Dense(32,activation='relu'))\n",
        "model_bid.add(Dense(12,activation='softmax'))\n"
      ]
    },
    {
      "cell_type": "code",
      "execution_count": null,
      "metadata": {
        "colab": {
          "base_uri": "https://localhost:8080/"
        },
        "id": "i_yzUssv6viO",
        "outputId": "4105482d-a4a6-40bc-fc13-05844af67dd4"
      },
      "outputs": [
        {
          "output_type": "stream",
          "name": "stdout",
          "text": [
            "Model: \"sequential_1\"\n",
            "_________________________________________________________________\n",
            " Layer (type)                Output Shape              Param #   \n",
            "=================================================================\n",
            " embedding_1 (Embedding)     (None, 218, 300)          1633800   \n",
            "                                                                 \n",
            " bidirectional (Bidirectiona  (None, 128)              186880    \n",
            " l)                                                              \n",
            "                                                                 \n",
            " dense_3 (Dense)             (None, 32)                4128      \n",
            "                                                                 \n",
            " dense_4 (Dense)             (None, 12)                396       \n",
            "                                                                 \n",
            "=================================================================\n",
            "Total params: 1,825,204\n",
            "Trainable params: 191,404\n",
            "Non-trainable params: 1,633,800\n",
            "_________________________________________________________________\n"
          ]
        }
      ],
      "source": [
        "model_bid.compile(loss='binary_crossentropy',optimizer = 'adam',metrics=['acc'])\n",
        "model_bid.summary()"
      ]
    },
    {
      "cell_type": "code",
      "execution_count": null,
      "metadata": {
        "colab": {
          "base_uri": "https://localhost:8080/"
        },
        "id": "HU2q0m0M6cg6",
        "outputId": "563c3b2c-c203-4500-d8fc-677d0b904743"
      },
      "outputs": [
        {
          "output_type": "stream",
          "name": "stdout",
          "text": [
            "Epoch 1/10\n",
            "177/177 [==============================] - 24s 69ms/step - loss: 0.2393 - acc: 0.5269 - val_loss: 0.1915 - val_acc: 0.5016\n",
            "Epoch 2/10\n",
            "177/177 [==============================] - 8s 48ms/step - loss: 0.1782 - acc: 0.5420 - val_loss: 0.1638 - val_acc: 0.5810\n",
            "Epoch 3/10\n",
            "177/177 [==============================] - 8s 48ms/step - loss: 0.1618 - acc: 0.5847 - val_loss: 0.1546 - val_acc: 0.5984\n",
            "Epoch 4/10\n",
            "177/177 [==============================] - 8s 47ms/step - loss: 0.1470 - acc: 0.6207 - val_loss: 0.1372 - val_acc: 0.6508\n",
            "Epoch 5/10\n",
            "177/177 [==============================] - 8s 48ms/step - loss: 0.1352 - acc: 0.6442 - val_loss: 0.1291 - val_acc: 0.6730\n",
            "Epoch 6/10\n",
            "177/177 [==============================] - 8s 47ms/step - loss: 0.1273 - acc: 0.6702 - val_loss: 0.1234 - val_acc: 0.7000\n",
            "Epoch 7/10\n",
            "177/177 [==============================] - 8s 47ms/step - loss: 0.1220 - acc: 0.6826 - val_loss: 0.1230 - val_acc: 0.7048\n",
            "Epoch 8/10\n",
            "177/177 [==============================] - 8s 47ms/step - loss: 0.1162 - acc: 0.6979 - val_loss: 0.1209 - val_acc: 0.6968\n",
            "Epoch 9/10\n",
            "177/177 [==============================] - 8s 48ms/step - loss: 0.1148 - acc: 0.7038 - val_loss: 0.1165 - val_acc: 0.7254\n",
            "Epoch 10/10\n",
            "177/177 [==============================] - 8s 47ms/step - loss: 0.1102 - acc: 0.7235 - val_loss: 0.1115 - val_acc: 0.7286\n"
          ]
        }
      ],
      "source": [
        "h_bid = model_bid.fit(train_x,train_y,epochs=10,validation_data=(val_x,val_y))"
      ]
    },
    {
      "cell_type": "code",
      "execution_count": null,
      "metadata": {
        "colab": {
          "base_uri": "https://localhost:8080/",
          "height": 312
        },
        "id": "i0y6lAR96cjt",
        "outputId": "091a41e3-1163-42b8-90d4-ad6e3f27c794"
      },
      "outputs": [
        {
          "output_type": "execute_result",
          "data": {
            "text/plain": [
              "<matplotlib.legend.Legend at 0x7f5020641110>"
            ]
          },
          "metadata": {},
          "execution_count": 59
        },
        {
          "output_type": "display_data",
          "data": {
            "text/plain": [
              "<Figure size 432x288 with 1 Axes>"
            ],
            "image/png": "[encoded data removed]"
          },
          "metadata": {
            "needs_background": "light"
          }
        }
      ],
      "source": [
        "plt.plot(h_bid.history['acc'])\n",
        "plt.plot(h_bid.history['val_acc'])\n",
        "plt.title('model accuracy')\n",
        "plt.ylabel('accuracy')\n",
        "plt.xlabel('epoch')\n",
        "plt.ylim(0.52, 0.75)\n",
        "plt.legend(['train', 'val'], loc='upper left')"
      ]
    },
    {
      "cell_type": "code",
      "execution_count": null,
      "metadata": {
        "colab": {
          "base_uri": "https://localhost:8080/",
          "height": 312
        },
        "id": "-BJ5D0pX6cmX",
        "outputId": "5e15b886-1ddc-4920-e3ad-482d575fed24"
      },
      "outputs": [
        {
          "output_type": "execute_result",
          "data": {
            "text/plain": [
              "<matplotlib.legend.Legend at 0x7f4f9b359250>"
            ]
          },
          "metadata": {},
          "execution_count": 60
        },
        {
          "output_type": "display_data",
          "data": {
            "text/plain": [
              "<Figure size 432x288 with 1 Axes>"
            ],
            "image/png": "[encoded data removed]"
          },
          "metadata": {
            "needs_background": "light"
          }
        }
      ],
      "source": [
        "plt.plot(h_bid.history['loss'])\n",
        "plt.plot(h_bid.history['val_loss'])\n",
        "plt.title('model loss')\n",
        "plt.ylabel('loss')\n",
        "plt.xlabel('epoch')\n",
        "plt.legend(['train', 'val'], loc='upper left')"
      ]
    },
    {
      "cell_type": "code",
      "execution_count": null,
      "metadata": {
        "colab": {
          "base_uri": "https://localhost:8080/"
        },
        "id": "sPSuz2oE8FJm",
        "outputId": "8e67c026-4746-4512-ba9d-425855efe8a0",
        "scrolled": true
      },
      "outputs": [
        {
          "output_type": "stream",
          "name": "stdout",
          "text": [
            "22/22 [==============================] - 0s 17ms/step - loss: 0.1174 - acc: 0.7086\n"
          ]
        },
        {
          "output_type": "execute_result",
          "data": {
            "text/plain": [
              "[0.11737882345914841, 0.7085714340209961]"
            ]
          },
          "metadata": {},
          "execution_count": 61
        }
      ],
      "source": [
        "model_bid.evaluate(test_x, test_y)"
      ]
    },
    {
      "cell_type": "code",
      "execution_count": null,
      "metadata": {
        "id": "qoUHn-fY8FMN"
      },
      "outputs": [],
      "source": [
        "text = 'giao hàng khá nhanh, hàng chất lượng tốt'\n",
        "text = word_tokenize(text, format = 'text')\n",
        "text = vocab.encode(text)\n",
        "text  = pad_sequences([text], maxlen = vocab.maxlen, padding = 'post')"
      ]
    },
    {
      "cell_type": "code",
      "execution_count": null,
      "metadata": {
        "colab": {
          "base_uri": "https://localhost:8080/"
        },
        "id": "_Vxj1FaJ8IDK",
        "outputId": "ae000833-8564-46f3-d2f2-3446ca76e4cb"
      },
      "outputs": [
        {
          "output_type": "stream",
          "name": "stdout",
          "text": [
            "Tốt nhanh\n"
          ]
        }
      ],
      "source": [
        "pred = model_bid.predict(text)\n",
        "print(trans_label[np.argmax(pred[0])])"
      ]
    },
    {
      "cell_type": "markdown",
      "metadata": {
        "id": "YZtnWzvg51wE"
      },
      "source": [
        "#CNN"
      ]
    },
    {
      "cell_type": "code",
      "execution_count": null,
      "metadata": {
        "id": "r3V8BnLR5339"
      },
      "outputs": [],
      "source": [
        "model_cnn  = Sequential()\n",
        "model_cnn.add(Embedding(input_dim=vocab.vocab_size, output_dim=300,input_length=vocab.maxlen,mask_zero=True,weights = [embedding_matrix],trainable = False))\n",
        "model_cnn.add(Conv1D(filters = 5, kernel_size=5))\n",
        "model_cnn.add(MaxPool1D(pool_size= 2))\n",
        "model_cnn.add(Flatten()) \n",
        "model_cnn.add(Dense(128,activation = 'relu'))\n",
        "model_cnn.add(Dense(64,activation='relu'))\n",
        "model_cnn.add(Dense(12,activation='softmax'))"
      ]
    },
    {
      "cell_type": "code",
      "execution_count": null,
      "metadata": {
        "colab": {
          "base_uri": "https://localhost:8080/"
        },
        "id": "-YfBhWqC8QbQ",
        "outputId": "4df6a8e1-942a-40cc-ca32-bcd84007f5b0"
      },
      "outputs": [
        {
          "output_type": "stream",
          "name": "stdout",
          "text": [
            "Model: \"sequential_2\"\n",
            "_________________________________________________________________\n",
            " Layer (type)                Output Shape              Param #   \n",
            "=================================================================\n",
            " embedding_2 (Embedding)     (None, 218, 300)          1633800   \n",
            "                                                                 \n",
            " conv1d_2 (Conv1D)           (None, 214, 5)            7505      \n",
            "                                                                 \n",
            " max_pooling1d_2 (MaxPooling  (None, 107, 5)           0         \n",
            " 1D)                                                             \n",
            "                                                                 \n",
            " flatten (Flatten)           (None, 535)               0         \n",
            "                                                                 \n",
            " dense_5 (Dense)             (None, 128)               68608     \n",
            "                                                                 \n",
            " dense_6 (Dense)             (None, 64)                8256      \n",
            "                                                                 \n",
            " dense_7 (Dense)             (None, 12)                780       \n",
            "                                                                 \n",
            "=================================================================\n",
            "Total params: 1,718,949\n",
            "Trainable params: 85,149\n",
            "Non-trainable params: 1,633,800\n",
            "_________________________________________________________________\n"
          ]
        }
      ],
      "source": [
        "model_cnn.compile(loss='binary_crossentropy',optimizer = 'adam',metrics=['acc'])\n",
        "model_cnn.summary()"
      ]
    },
    {
      "cell_type": "code",
      "execution_count": null,
      "metadata": {
        "colab": {
          "base_uri": "https://localhost:8080/"
        },
        "id": "x9FDM8lH6wg0",
        "outputId": "24c8b1d3-5e21-49a0-d77b-53c0faacd32c"
      },
      "outputs": [
        {
          "output_type": "stream",
          "name": "stdout",
          "text": [
            "Epoch 1/10\n",
            "177/177 [==============================] - 3s 13ms/step - loss: 0.2448 - acc: 0.5185 - val_loss: 0.1857 - val_acc: 0.5016\n",
            "Epoch 2/10\n",
            "177/177 [==============================] - 1s 8ms/step - loss: 0.1700 - acc: 0.5513 - val_loss: 0.1618 - val_acc: 0.5556\n",
            "Epoch 3/10\n",
            "177/177 [==============================] - 1s 8ms/step - loss: 0.1495 - acc: 0.6071 - val_loss: 0.1407 - val_acc: 0.6302\n",
            "Epoch 4/10\n",
            "177/177 [==============================] - 2s 9ms/step - loss: 0.1328 - acc: 0.6518 - val_loss: 0.1314 - val_acc: 0.6683\n",
            "Epoch 5/10\n",
            "177/177 [==============================] - 2s 9ms/step - loss: 0.1227 - acc: 0.6774 - val_loss: 0.1288 - val_acc: 0.6667\n",
            "Epoch 6/10\n",
            "177/177 [==============================] - 2s 9ms/step - loss: 0.1140 - acc: 0.7009 - val_loss: 0.1273 - val_acc: 0.6825\n",
            "Epoch 7/10\n",
            "177/177 [==============================] - 2s 9ms/step - loss: 0.1069 - acc: 0.7243 - val_loss: 0.1218 - val_acc: 0.7048\n",
            "Epoch 8/10\n",
            "177/177 [==============================] - 2s 9ms/step - loss: 0.0997 - acc: 0.7488 - val_loss: 0.1235 - val_acc: 0.6968\n",
            "Epoch 9/10\n",
            "177/177 [==============================] - 2s 9ms/step - loss: 0.0935 - acc: 0.7668 - val_loss: 0.1224 - val_acc: 0.7079\n",
            "Epoch 10/10\n",
            "177/177 [==============================] - 2s 9ms/step - loss: 0.0874 - acc: 0.7854 - val_loss: 0.1251 - val_acc: 0.7063\n"
          ]
        }
      ],
      "source": [
        "h_cnn = model_cnn.fit(train_x,train_y,epochs=10,validation_data=(val_x,val_y))"
      ]
    },
    {
      "cell_type": "code",
      "execution_count": null,
      "metadata": {
        "colab": {
          "base_uri": "https://localhost:8080/",
          "height": 312
        },
        "id": "piGSB5GK6wjb",
        "outputId": "0f997f1c-931f-401a-8d8d-ab0adc1eb492"
      },
      "outputs": [
        {
          "output_type": "execute_result",
          "data": {
            "text/plain": [
              "<matplotlib.legend.Legend at 0x7f4f990ed650>"
            ]
          },
          "metadata": {},
          "execution_count": 67
        },
        {
          "output_type": "display_data",
          "data": {
            "text/plain": [
              "<Figure size 432x288 with 1 Axes>"
            ],
            "image/png": "[encoded data removed]"
          },
          "metadata": {
            "needs_background": "light"
          }
        }
      ],
      "source": [
        "plt.plot(h_cnn.history['acc'])\n",
        "plt.plot(h_cnn.history['val_acc'])\n",
        "plt.title('model accuracy')\n",
        "plt.ylabel('accuracy')\n",
        "plt.xlabel('epoch')\n",
        "plt.ylim(0.52, 0.75)\n",
        "plt.legend(['train', 'val'], loc='upper left')"
      ]
    },
    {
      "cell_type": "code",
      "execution_count": null,
      "metadata": {
        "colab": {
          "base_uri": "https://localhost:8080/",
          "height": 312
        },
        "id": "H83QVfDe8_Mt",
        "outputId": "83f467f6-43f0-4371-c801-605bdb659b17"
      },
      "outputs": [
        {
          "output_type": "execute_result",
          "data": {
            "text/plain": [
              "<matplotlib.legend.Legend at 0x7f4f9906d610>"
            ]
          },
          "metadata": {},
          "execution_count": 68
        },
        {
          "output_type": "display_data",
          "data": {
            "text/plain": [
              "<Figure size 432x288 with 1 Axes>"
            ],
            "image/png": "[encoded data removed]"
          },
          "metadata": {
            "needs_background": "light"
          }
        }
      ],
      "source": [
        "plt.plot(h_cnn.history['loss'])\n",
        "plt.plot(h_cnn.history['val_loss'])\n",
        "plt.title('model loss')\n",
        "plt.ylabel('loss')\n",
        "plt.xlabel('epoch')\n",
        "plt.legend(['train', 'val'], loc='upper left')"
      ]
    },
    {
      "cell_type": "code",
      "execution_count": null,
      "metadata": {
        "id": "NR6UNmNi9Jg3"
      },
      "outputs": [],
      "source": [
        "text = 'hàng tệ quá, hơi thất vọng về chất lượng'\n",
        "text = word_tokenize(text, format = 'text')\n",
        "text = vocab.encode(text)\n",
        "text  = pad_sequences([text], maxlen = vocab.maxlen, padding = 'post')"
      ]
    },
    {
      "cell_type": "code",
      "execution_count": null,
      "metadata": {
        "colab": {
          "base_uri": "https://localhost:8080/"
        },
        "id": "vBtgP0dl9LUY",
        "outputId": "21fed7fc-831c-44e4-f415-e2bfeabe5c00"
      },
      "outputs": [
        {
          "output_type": "stream",
          "name": "stdout",
          "text": [
            "Tệ\n"
          ]
        }
      ],
      "source": [
        "pred = model_cnn.predict(text)\n",
        "print(trans_label[np.argmax(pred[0])])"
      ]
    }
  ],
  "metadata": {
    "accelerator": "GPU",
    "colab": {
      "provenance": []
    },
    "kernelspec": {
      "display_name": "Python 3",
      "language": "python",
      "name": "python3"
    },
    "language_info": {
      "codemirror_mode": {
        "name": "ipython",
        "version": 3
      },
      "file_extension": ".py",
      "mimetype": "text/x-python",
      "name": "python",
      "nbconvert_exporter": "python",
      "pygments_lexer": "ipython3",
      "version": "3.8.8"
    }
  },
  "nbformat": 4,
  "nbformat_minor": 0
}